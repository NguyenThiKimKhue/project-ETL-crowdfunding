{
 "cells": [
  {
   "cell_type": "code",
   "execution_count": 1,
   "metadata": {},
   "outputs": [],
   "source": [
    "# Import dependencies\n",
    "import pandas as pd\n",
    "import numpy as np\n",
    "# Set the column width\n",
    "pd.set_option('max_colwidth', 400)"
   ]
  },
  {
   "attachments": {},
   "cell_type": "markdown",
   "metadata": {},
   "source": [
    "### Extract the crowdfunding.xlsx Data"
   ]
  },
  {
   "cell_type": "code",
   "execution_count": 3,
   "metadata": {},
   "outputs": [
    {
     "data": {
      "text/html": [
       "<div>\n",
       "<style scoped>\n",
       "    .dataframe tbody tr th:only-of-type {\n",
       "        vertical-align: middle;\n",
       "    }\n",
       "\n",
       "    .dataframe tbody tr th {\n",
       "        vertical-align: top;\n",
       "    }\n",
       "\n",
       "    .dataframe thead th {\n",
       "        text-align: right;\n",
       "    }\n",
       "</style>\n",
       "<table border=\"1\" class=\"dataframe\">\n",
       "  <thead>\n",
       "    <tr style=\"text-align: right;\">\n",
       "      <th></th>\n",
       "      <th>cf_id</th>\n",
       "      <th>contact_id</th>\n",
       "      <th>company_name</th>\n",
       "      <th>blurb</th>\n",
       "      <th>goal</th>\n",
       "      <th>pledged</th>\n",
       "      <th>outcome</th>\n",
       "      <th>backers_count</th>\n",
       "      <th>country</th>\n",
       "      <th>currency</th>\n",
       "      <th>launched_at</th>\n",
       "      <th>deadline</th>\n",
       "      <th>staff_pick</th>\n",
       "      <th>spotlight</th>\n",
       "      <th>category &amp; sub-category</th>\n",
       "    </tr>\n",
       "  </thead>\n",
       "  <tbody>\n",
       "    <tr>\n",
       "      <th>0</th>\n",
       "      <td>147</td>\n",
       "      <td>4661</td>\n",
       "      <td>Baldwin, Riley and Jackson</td>\n",
       "      <td>Pre-emptive tertiary standardization</td>\n",
       "      <td>100</td>\n",
       "      <td>0</td>\n",
       "      <td>failed</td>\n",
       "      <td>0</td>\n",
       "      <td>CA</td>\n",
       "      <td>CAD</td>\n",
       "      <td>1581573600</td>\n",
       "      <td>1614578400</td>\n",
       "      <td>False</td>\n",
       "      <td>False</td>\n",
       "      <td>food/food trucks</td>\n",
       "    </tr>\n",
       "    <tr>\n",
       "      <th>1</th>\n",
       "      <td>1621</td>\n",
       "      <td>3765</td>\n",
       "      <td>Odom Inc</td>\n",
       "      <td>Managed bottom-line architecture</td>\n",
       "      <td>1400</td>\n",
       "      <td>14560</td>\n",
       "      <td>successful</td>\n",
       "      <td>158</td>\n",
       "      <td>US</td>\n",
       "      <td>USD</td>\n",
       "      <td>1611554400</td>\n",
       "      <td>1621918800</td>\n",
       "      <td>False</td>\n",
       "      <td>True</td>\n",
       "      <td>music/rock</td>\n",
       "    </tr>\n",
       "    <tr>\n",
       "      <th>2</th>\n",
       "      <td>1812</td>\n",
       "      <td>4187</td>\n",
       "      <td>Melton, Robinson and Fritz</td>\n",
       "      <td>Function-based leadingedge pricing structure</td>\n",
       "      <td>108400</td>\n",
       "      <td>142523</td>\n",
       "      <td>successful</td>\n",
       "      <td>1425</td>\n",
       "      <td>AU</td>\n",
       "      <td>AUD</td>\n",
       "      <td>1608184800</td>\n",
       "      <td>1640844000</td>\n",
       "      <td>False</td>\n",
       "      <td>False</td>\n",
       "      <td>technology/web</td>\n",
       "    </tr>\n",
       "    <tr>\n",
       "      <th>3</th>\n",
       "      <td>2156</td>\n",
       "      <td>4941</td>\n",
       "      <td>Mcdonald, Gonzalez and Ross</td>\n",
       "      <td>Vision-oriented fresh-thinking conglomeration</td>\n",
       "      <td>4200</td>\n",
       "      <td>2477</td>\n",
       "      <td>failed</td>\n",
       "      <td>24</td>\n",
       "      <td>US</td>\n",
       "      <td>USD</td>\n",
       "      <td>1634792400</td>\n",
       "      <td>1642399200</td>\n",
       "      <td>False</td>\n",
       "      <td>False</td>\n",
       "      <td>music/rock</td>\n",
       "    </tr>\n",
       "    <tr>\n",
       "      <th>4</th>\n",
       "      <td>1365</td>\n",
       "      <td>2199</td>\n",
       "      <td>Larson-Little</td>\n",
       "      <td>Proactive foreground core</td>\n",
       "      <td>7600</td>\n",
       "      <td>5265</td>\n",
       "      <td>failed</td>\n",
       "      <td>53</td>\n",
       "      <td>US</td>\n",
       "      <td>USD</td>\n",
       "      <td>1608530400</td>\n",
       "      <td>1629694800</td>\n",
       "      <td>False</td>\n",
       "      <td>False</td>\n",
       "      <td>theater/plays</td>\n",
       "    </tr>\n",
       "  </tbody>\n",
       "</table>\n",
       "</div>"
      ],
      "text/plain": [
       "   cf_id  contact_id                 company_name  \\\n",
       "0    147        4661   Baldwin, Riley and Jackson   \n",
       "1   1621        3765                     Odom Inc   \n",
       "2   1812        4187   Melton, Robinson and Fritz   \n",
       "3   2156        4941  Mcdonald, Gonzalez and Ross   \n",
       "4   1365        2199                Larson-Little   \n",
       "\n",
       "                                           blurb    goal  pledged     outcome  \\\n",
       "0           Pre-emptive tertiary standardization     100        0      failed   \n",
       "1               Managed bottom-line architecture    1400    14560  successful   \n",
       "2   Function-based leadingedge pricing structure  108400   142523  successful   \n",
       "3  Vision-oriented fresh-thinking conglomeration    4200     2477      failed   \n",
       "4                      Proactive foreground core    7600     5265      failed   \n",
       "\n",
       "   backers_count country currency  launched_at    deadline  staff_pick  \\\n",
       "0              0      CA      CAD   1581573600  1614578400       False   \n",
       "1            158      US      USD   1611554400  1621918800       False   \n",
       "2           1425      AU      AUD   1608184800  1640844000       False   \n",
       "3             24      US      USD   1634792400  1642399200       False   \n",
       "4             53      US      USD   1608530400  1629694800       False   \n",
       "\n",
       "   spotlight category & sub-category  \n",
       "0      False        food/food trucks  \n",
       "1       True              music/rock  \n",
       "2      False          technology/web  \n",
       "3      False              music/rock  \n",
       "4      False           theater/plays  "
      ]
     },
     "execution_count": 3,
     "metadata": {},
     "output_type": "execute_result"
    }
   ],
   "source": [
    "# Read the data into a Pandas DataFrame\n",
    "crowdfunding_info_df = pd.read_excel(\"../Resources/crowdfunding.xlsx\")\n",
    "crowdfunding_info_df.head()"
   ]
  },
  {
   "cell_type": "code",
   "execution_count": 4,
   "metadata": {},
   "outputs": [
    {
     "name": "stdout",
     "output_type": "stream",
     "text": [
      "<class 'pandas.core.frame.DataFrame'>\n",
      "RangeIndex: 1000 entries, 0 to 999\n",
      "Data columns (total 15 columns):\n",
      " #   Column                   Non-Null Count  Dtype \n",
      "---  ------                   --------------  ----- \n",
      " 0   cf_id                    1000 non-null   int64 \n",
      " 1   contact_id               1000 non-null   int64 \n",
      " 2   company_name             1000 non-null   object\n",
      " 3   blurb                    1000 non-null   object\n",
      " 4   goal                     1000 non-null   int64 \n",
      " 5   pledged                  1000 non-null   int64 \n",
      " 6   outcome                  1000 non-null   object\n",
      " 7   backers_count            1000 non-null   int64 \n",
      " 8   country                  1000 non-null   object\n",
      " 9   currency                 1000 non-null   object\n",
      " 10  launched_at              1000 non-null   int64 \n",
      " 11  deadline                 1000 non-null   int64 \n",
      " 12  staff_pick               1000 non-null   bool  \n",
      " 13  spotlight                1000 non-null   bool  \n",
      " 14  category & sub-category  1000 non-null   object\n",
      "dtypes: bool(2), int64(7), object(6)\n",
      "memory usage: 103.6+ KB\n"
     ]
    }
   ],
   "source": [
    "# Get a brief summary of the crowdfunding_info DataFrame.\n",
    "crowdfunding_info_df.info()"
   ]
  },
  {
   "cell_type": "code",
   "execution_count": 5,
   "metadata": {},
   "outputs": [
    {
     "name": "stdout",
     "output_type": "stream",
     "text": [
      "<class 'pandas.core.frame.DataFrame'>\n",
      "RangeIndex: 1000 entries, 0 to 999\n",
      "Data columns (total 15 columns):\n",
      " #   Column                   Non-Null Count  Dtype  \n",
      "---  ------                   --------------  -----  \n",
      " 0   cf_id                    1000 non-null   int64  \n",
      " 1   contact_id               1000 non-null   int64  \n",
      " 2   company_name             1000 non-null   object \n",
      " 3   blurb                    1000 non-null   object \n",
      " 4   goal                     1000 non-null   float64\n",
      " 5   pledged                  1000 non-null   float64\n",
      " 6   outcome                  1000 non-null   object \n",
      " 7   backers_count            1000 non-null   int64  \n",
      " 8   country                  1000 non-null   object \n",
      " 9   currency                 1000 non-null   object \n",
      " 10  launched_at              1000 non-null   int64  \n",
      " 11  deadline                 1000 non-null   int64  \n",
      " 12  staff_pick               1000 non-null   bool   \n",
      " 13  spotlight                1000 non-null   bool   \n",
      " 14  category & sub-category  1000 non-null   object \n",
      "dtypes: bool(2), float64(2), int64(5), object(6)\n",
      "memory usage: 103.6+ KB\n"
     ]
    }
   ],
   "source": [
    "# Convert \"goal\" and \"pledged\" to Float\n",
    "crowdfunding_info_df[\"goal\"] = crowdfunding_info_df[\"goal\"].astype(float)\n",
    "crowdfunding_info_df[\"pledged\"] = crowdfunding_info_df[\"pledged\"].astype(float)\n",
    "crowdfunding_info_df.info()"
   ]
  },
  {
   "cell_type": "code",
   "execution_count": 6,
   "metadata": {},
   "outputs": [
    {
     "name": "stdout",
     "output_type": "stream",
     "text": [
      "<class 'pandas.core.frame.DataFrame'>\n",
      "RangeIndex: 1000 entries, 0 to 999\n",
      "Data columns (total 15 columns):\n",
      " #   Column                   Non-Null Count  Dtype         \n",
      "---  ------                   --------------  -----         \n",
      " 0   cf_id                    1000 non-null   int64         \n",
      " 1   contact_id               1000 non-null   int64         \n",
      " 2   company_name             1000 non-null   object        \n",
      " 3   blurb                    1000 non-null   object        \n",
      " 4   goal                     1000 non-null   float64       \n",
      " 5   pledged                  1000 non-null   float64       \n",
      " 6   outcome                  1000 non-null   object        \n",
      " 7   backers_count            1000 non-null   int64         \n",
      " 8   country                  1000 non-null   object        \n",
      " 9   currency                 1000 non-null   object        \n",
      " 10  launched_at              1000 non-null   datetime64[ns]\n",
      " 11  deadline                 1000 non-null   datetime64[ns]\n",
      " 12  staff_pick               1000 non-null   bool          \n",
      " 13  spotlight                1000 non-null   bool          \n",
      " 14  category & sub-category  1000 non-null   object        \n",
      "dtypes: bool(2), datetime64[ns](2), float64(2), int64(3), object(6)\n",
      "memory usage: 103.6+ KB\n"
     ]
    }
   ],
   "source": [
    "# Convert \"launched_at\" to \"launch_date\" and \"deadline\" to end_date\" <-- Convert both to DateTime\n",
    "crowdfunding_info_df[\"launched_at\"] = pd.to_datetime(crowdfunding_info_df.launched_at*1e9)\n",
    "crowdfunding_info_df[\"deadline\"] = pd.to_datetime(crowdfunding_info_df.deadline*1e9)\n",
    "crowdfunding_info_df.info()\n"
   ]
  },
  {
   "cell_type": "code",
   "execution_count": 7,
   "metadata": {},
   "outputs": [
    {
     "data": {
      "text/html": [
       "<div>\n",
       "<style scoped>\n",
       "    .dataframe tbody tr th:only-of-type {\n",
       "        vertical-align: middle;\n",
       "    }\n",
       "\n",
       "    .dataframe tbody tr th {\n",
       "        vertical-align: top;\n",
       "    }\n",
       "\n",
       "    .dataframe thead th {\n",
       "        text-align: right;\n",
       "    }\n",
       "</style>\n",
       "<table border=\"1\" class=\"dataframe\">\n",
       "  <thead>\n",
       "    <tr style=\"text-align: right;\">\n",
       "      <th></th>\n",
       "      <th>cf_id</th>\n",
       "      <th>contact_id</th>\n",
       "      <th>company_name</th>\n",
       "      <th>blurb</th>\n",
       "      <th>goal</th>\n",
       "      <th>pledged</th>\n",
       "      <th>outcome</th>\n",
       "      <th>backers_count</th>\n",
       "      <th>country</th>\n",
       "      <th>currency</th>\n",
       "      <th>launched_at</th>\n",
       "      <th>deadline</th>\n",
       "      <th>staff_pick</th>\n",
       "      <th>spotlight</th>\n",
       "      <th>category</th>\n",
       "      <th>subcategory</th>\n",
       "    </tr>\n",
       "  </thead>\n",
       "  <tbody>\n",
       "    <tr>\n",
       "      <th>0</th>\n",
       "      <td>147</td>\n",
       "      <td>4661</td>\n",
       "      <td>Baldwin, Riley and Jackson</td>\n",
       "      <td>Pre-emptive tertiary standardization</td>\n",
       "      <td>100.0</td>\n",
       "      <td>0.0</td>\n",
       "      <td>failed</td>\n",
       "      <td>0</td>\n",
       "      <td>CA</td>\n",
       "      <td>CAD</td>\n",
       "      <td>2020-02-13 06:00:00</td>\n",
       "      <td>2021-03-01 06:00:00</td>\n",
       "      <td>False</td>\n",
       "      <td>False</td>\n",
       "      <td>food</td>\n",
       "      <td>food trucks</td>\n",
       "    </tr>\n",
       "    <tr>\n",
       "      <th>1</th>\n",
       "      <td>1621</td>\n",
       "      <td>3765</td>\n",
       "      <td>Odom Inc</td>\n",
       "      <td>Managed bottom-line architecture</td>\n",
       "      <td>1400.0</td>\n",
       "      <td>14560.0</td>\n",
       "      <td>successful</td>\n",
       "      <td>158</td>\n",
       "      <td>US</td>\n",
       "      <td>USD</td>\n",
       "      <td>2021-01-25 06:00:00</td>\n",
       "      <td>2021-05-25 05:00:00</td>\n",
       "      <td>False</td>\n",
       "      <td>True</td>\n",
       "      <td>music</td>\n",
       "      <td>rock</td>\n",
       "    </tr>\n",
       "    <tr>\n",
       "      <th>2</th>\n",
       "      <td>1812</td>\n",
       "      <td>4187</td>\n",
       "      <td>Melton, Robinson and Fritz</td>\n",
       "      <td>Function-based leadingedge pricing structure</td>\n",
       "      <td>108400.0</td>\n",
       "      <td>142523.0</td>\n",
       "      <td>successful</td>\n",
       "      <td>1425</td>\n",
       "      <td>AU</td>\n",
       "      <td>AUD</td>\n",
       "      <td>2020-12-17 06:00:00</td>\n",
       "      <td>2021-12-30 06:00:00</td>\n",
       "      <td>False</td>\n",
       "      <td>False</td>\n",
       "      <td>technology</td>\n",
       "      <td>web</td>\n",
       "    </tr>\n",
       "    <tr>\n",
       "      <th>3</th>\n",
       "      <td>2156</td>\n",
       "      <td>4941</td>\n",
       "      <td>Mcdonald, Gonzalez and Ross</td>\n",
       "      <td>Vision-oriented fresh-thinking conglomeration</td>\n",
       "      <td>4200.0</td>\n",
       "      <td>2477.0</td>\n",
       "      <td>failed</td>\n",
       "      <td>24</td>\n",
       "      <td>US</td>\n",
       "      <td>USD</td>\n",
       "      <td>2021-10-21 05:00:00</td>\n",
       "      <td>2022-01-17 06:00:00</td>\n",
       "      <td>False</td>\n",
       "      <td>False</td>\n",
       "      <td>music</td>\n",
       "      <td>rock</td>\n",
       "    </tr>\n",
       "    <tr>\n",
       "      <th>4</th>\n",
       "      <td>1365</td>\n",
       "      <td>2199</td>\n",
       "      <td>Larson-Little</td>\n",
       "      <td>Proactive foreground core</td>\n",
       "      <td>7600.0</td>\n",
       "      <td>5265.0</td>\n",
       "      <td>failed</td>\n",
       "      <td>53</td>\n",
       "      <td>US</td>\n",
       "      <td>USD</td>\n",
       "      <td>2020-12-21 06:00:00</td>\n",
       "      <td>2021-08-23 05:00:00</td>\n",
       "      <td>False</td>\n",
       "      <td>False</td>\n",
       "      <td>theater</td>\n",
       "      <td>plays</td>\n",
       "    </tr>\n",
       "  </tbody>\n",
       "</table>\n",
       "</div>"
      ],
      "text/plain": [
       "   cf_id  contact_id                 company_name  \\\n",
       "0    147        4661   Baldwin, Riley and Jackson   \n",
       "1   1621        3765                     Odom Inc   \n",
       "2   1812        4187   Melton, Robinson and Fritz   \n",
       "3   2156        4941  Mcdonald, Gonzalez and Ross   \n",
       "4   1365        2199                Larson-Little   \n",
       "\n",
       "                                           blurb      goal   pledged  \\\n",
       "0           Pre-emptive tertiary standardization     100.0       0.0   \n",
       "1               Managed bottom-line architecture    1400.0   14560.0   \n",
       "2   Function-based leadingedge pricing structure  108400.0  142523.0   \n",
       "3  Vision-oriented fresh-thinking conglomeration    4200.0    2477.0   \n",
       "4                      Proactive foreground core    7600.0    5265.0   \n",
       "\n",
       "      outcome  backers_count country currency         launched_at  \\\n",
       "0      failed              0      CA      CAD 2020-02-13 06:00:00   \n",
       "1  successful            158      US      USD 2021-01-25 06:00:00   \n",
       "2  successful           1425      AU      AUD 2020-12-17 06:00:00   \n",
       "3      failed             24      US      USD 2021-10-21 05:00:00   \n",
       "4      failed             53      US      USD 2020-12-21 06:00:00   \n",
       "\n",
       "             deadline  staff_pick  spotlight    category  subcategory  \n",
       "0 2021-03-01 06:00:00       False      False        food  food trucks  \n",
       "1 2021-05-25 05:00:00       False       True       music         rock  \n",
       "2 2021-12-30 06:00:00       False      False  technology          web  \n",
       "3 2022-01-17 06:00:00       False      False       music         rock  \n",
       "4 2021-08-23 05:00:00       False      False     theater        plays  "
      ]
     },
     "execution_count": 7,
     "metadata": {},
     "output_type": "execute_result"
    }
   ],
   "source": [
    "# Break up category and sub_category\n",
    "split_columns = crowdfunding_info_df['category & sub-category'].str.split('/', expand=True)\n",
    "crowdfunding_info_df['category'] = split_columns[0]\n",
    "crowdfunding_info_df['subcategory'] = split_columns[1] if split_columns.shape[1] > 1 else None\n",
    "\n",
    "#Drop old column\n",
    "crowdfunding_info_df.drop(columns=[\"category & sub-category\"], inplace=True)\n",
    "\n",
    "crowdfunding_info_df.head()"
   ]
  },
  {
   "attachments": {},
   "cell_type": "markdown",
   "metadata": {},
   "source": [
    "### Create the Category and Subcategory DataFrames\n",
    "---\n",
    "**Create a Category DataFrame that has the following columns:**\n",
    "* A \"category_id\" column that has entries going sequentially from \"cat1\" to \"cat*n*\", where *n* is the number of unique categories\n",
    "* A \"category\" column that contains only the category titles\n",
    "\n",
    "Export the DataFrame as a `category.csv` CSV file.\n",
    "\n",
    "**Create a SubCategory DataFrame that has the following columns:**\n",
    "* A \"subcategory_id\" column that has entries going sequentially from \"subcat1\" to \"subcat*n*\", where *n* is the number of unique subcategories\n",
    "* A \"subcategory\" column that contains only the subcategory titles\n",
    "\n",
    "Export the DataFrame as a `subcategory.csv` CSV file."
   ]
  },
  {
   "cell_type": "code",
   "execution_count": 9,
   "metadata": {},
   "outputs": [
    {
     "name": "stdout",
     "output_type": "stream",
     "text": [
      "<class 'pandas.core.frame.DataFrame'>\n",
      "RangeIndex: 1000 entries, 0 to 999\n",
      "Data columns (total 16 columns):\n",
      " #   Column         Non-Null Count  Dtype         \n",
      "---  ------         --------------  -----         \n",
      " 0   cf_id          1000 non-null   int64         \n",
      " 1   contact_id     1000 non-null   int64         \n",
      " 2   company_name   1000 non-null   object        \n",
      " 3   blurb          1000 non-null   object        \n",
      " 4   goal           1000 non-null   float64       \n",
      " 5   pledged        1000 non-null   float64       \n",
      " 6   outcome        1000 non-null   object        \n",
      " 7   backers_count  1000 non-null   int64         \n",
      " 8   country        1000 non-null   object        \n",
      " 9   currency       1000 non-null   object        \n",
      " 10  launched_at    1000 non-null   datetime64[ns]\n",
      " 11  deadline       1000 non-null   datetime64[ns]\n",
      " 12  staff_pick     1000 non-null   bool          \n",
      " 13  spotlight      1000 non-null   bool          \n",
      " 14  category       1000 non-null   object        \n",
      " 15  subcategory    1000 non-null   object        \n",
      "dtypes: bool(2), datetime64[ns](2), float64(2), int64(3), object(7)\n",
      "memory usage: 111.5+ KB\n"
     ]
    }
   ],
   "source": [
    "# Get the crowdfunding_info_df columns.\n",
    "crowdfunding_info_df.info()"
   ]
  },
  {
   "cell_type": "code",
   "execution_count": 10,
   "metadata": {},
   "outputs": [],
   "source": [
    "# Assign the category and subcategory values to category and subcategory columns.\n",
    "categories = crowdfunding_info_df[\"category\"].copy()\n",
    "subcategories = crowdfunding_info_df[\"subcategory\"].copy()"
   ]
  },
  {
   "cell_type": "code",
   "execution_count": 59,
   "metadata": {},
   "outputs": [
    {
     "name": "stdout",
     "output_type": "stream",
     "text": [
      "['food', 'music', 'technology', 'music', 'theater', 'theater', 'film & video', 'theater', 'theater', 'music', 'film & video', 'theater', 'film & video', 'music', 'music', 'technology', 'publishing', 'film & video', 'theater', 'theater', 'film & video', 'theater', 'theater', 'film & video', 'technology', 'games', 'theater', 'music', 'theater', 'film & video', 'film & video', 'games', 'film & video', 'theater', 'film & video', 'film & video', 'theater', 'publishing', 'photography', 'theater', 'technology', 'music', 'food', 'publishing', 'publishing', 'theater', 'music', 'theater', 'theater', 'music', 'music', 'technology', 'theater', 'film & video', 'technology', 'music', 'technology', 'games', 'theater', 'theater', 'theater', 'theater', 'technology', 'theater', 'technology', 'theater', 'theater', 'technology', 'theater', 'theater', 'theater', 'theater', 'film & video', 'music', 'music', 'photography', 'theater', 'film & video', 'publishing', 'theater', 'games', 'music', 'games', 'music', 'technology', 'music', 'theater', 'music', 'publishing', 'theater', 'theater', 'publishing', 'games', 'theater', 'technology', 'film & video', 'theater', 'food', 'games', 'theater', 'theater', 'music', 'technology', 'music', 'music', 'technology', 'theater', 'theater', 'film & video', 'film & video', 'food', 'publishing', 'technology', 'food', 'technology', 'publishing', 'theater', 'film & video', 'photography', 'film & video', 'games', 'games', 'publishing', 'theater', 'photography', 'theater', 'theater', 'theater', 'music', 'food', 'film & video', 'technology', 'theater', 'music', 'film & video', 'theater', 'film & video', 'publishing', 'games', 'technology', 'film & video', 'technology', 'technology', 'music', 'theater', 'technology', 'theater', 'theater', 'technology', 'music', 'music', 'music', 'music', 'theater', 'music', 'theater', 'music', 'photography', 'music', 'theater', 'technology', 'technology', 'music', 'photography', 'theater', 'technology', 'photography', 'theater', 'music', 'film & video', 'music', 'publishing', 'film & video', 'theater', 'technology', 'theater', 'theater', 'theater', 'food', 'theater', 'technology', 'technology', 'theater', 'music', 'theater', 'film & video', 'theater', 'film & video', 'theater', 'theater', 'theater', 'theater', 'music', 'music', 'music', 'music', 'technology', 'film & video', 'music', 'music', 'theater', 'technology', 'food', 'theater', 'music', 'theater', 'publishing', 'music', 'film & video', 'film & video', 'film & video', 'theater', 'theater', 'music', 'music', 'theater', 'theater', 'film & video', 'film & video', 'film & video', 'theater', 'food', 'photography', 'theater', 'film & video', 'music', 'photography', 'games', 'film & video', 'games', 'games', 'theater', 'theater', 'film & video', 'games', 'film & video', 'music', 'film & video', 'theater', 'technology', 'theater', 'publishing', 'music', 'theater', 'theater', 'theater', 'technology', 'publishing', 'games', 'publishing', 'music', 'theater', 'theater', 'film & video', 'publishing', 'music', 'music', 'theater', 'theater', 'photography', 'music', 'music', 'music', 'photography', 'theater', 'theater', 'music', 'theater', 'film & video', 'film & video', 'games', 'photography', 'theater', 'theater', 'theater', 'publishing', 'games', 'theater', 'technology', 'theater', 'film & video', 'theater', 'film & video', 'music', 'technology', 'theater', 'theater', 'music', 'music', 'theater', 'film & video', 'technology', 'food', 'theater', 'theater', 'theater', 'theater', 'theater', 'music', 'food', 'publishing', 'film & video', 'theater', 'music', 'film & video', 'theater', 'theater', 'publishing', 'theater', 'music', 'games', 'theater', 'theater', 'music', 'film & video', 'theater', 'food', 'theater', 'music', 'technology', 'publishing', 'film & video', 'theater', 'film & video', 'theater', 'theater', 'film & video', 'theater', 'music', 'games', 'film & video', 'food', 'technology', 'theater', 'music', 'music', 'music', 'theater', 'theater', 'theater', 'photography', 'music', 'theater', 'theater', 'games', 'film & video', 'music', 'technology', 'food', 'theater', 'music', 'music', 'theater', 'theater', 'film & video', 'technology', 'theater', 'games', 'photography', 'film & video', 'theater', 'theater', 'music', 'music', 'music', 'theater', 'theater', 'theater', 'film & video', 'film & video', 'theater', 'theater', 'film & video', 'theater', 'film & video', 'music', 'music', 'theater', 'film & video', 'theater', 'theater', 'theater', 'photography', 'food', 'film & video', 'publishing', 'theater', 'technology', 'music', 'theater', 'photography', 'publishing', 'technology', 'music', 'film & video', 'theater', 'film & video', 'music', 'film & video', 'music', 'photography', 'theater', 'film & video', 'theater', 'theater', 'theater', 'film & video', 'theater', 'film & video', 'music', 'games', 'theater', 'publishing', 'film & video', 'food', 'theater', 'film & video', 'theater', 'film & video', 'technology', 'theater', 'technology', 'theater', 'food', 'music', 'photography', 'theater', 'theater', 'film & video', 'photography', 'theater', 'theater', 'theater', 'film & video', 'theater', 'theater', 'music', 'film & video', 'theater', 'film & video', 'film & video', 'technology', 'theater', 'theater', 'music', 'theater', 'technology', 'film & video', 'games', 'games', 'film & video', 'music', 'film & video', 'film & video', 'film & video', 'theater', 'music', 'theater', 'theater', 'film & video', 'theater', 'film & video', 'games', 'film & video', 'theater', 'publishing', 'technology', 'technology', 'theater', 'film & video', 'technology', 'food', 'music', 'music', 'film & video', 'publishing', 'publishing', 'film & video', 'technology', 'food', 'photography', 'theater', 'publishing', 'theater', 'food', 'theater', 'publishing', 'theater', 'theater', 'technology', 'journalism', 'food', 'film & video', 'photography', 'technology', 'theater', 'film & video', 'technology', 'technology', 'film & video', 'theater', 'film & video', 'games', 'film & video', 'music', 'publishing', 'theater', 'technology', 'theater', 'theater', 'film & video', 'theater', 'games', 'film & video', 'music', 'theater', 'publishing', 'food', 'film & video', 'music', 'theater', 'film & video', 'film & video', 'film & video', 'theater', 'technology', 'theater', 'film & video', 'music', 'games', 'publishing', 'games', 'theater', 'music', 'film & video', 'theater', 'publishing', 'film & video', 'games', 'food', 'photography', 'games', 'music', 'games', 'music', 'theater', 'theater', 'film & video', 'theater', 'technology', 'music', 'technology', 'theater', 'music', 'music', 'music', 'publishing', 'film & video', 'theater', 'theater', 'film & video', 'theater', 'music', 'film & video', 'theater', 'theater', 'music', 'music', 'theater', 'film & video', 'music', 'film & video', 'music', 'journalism', 'food', 'theater', 'theater', 'music', 'film & video', 'music', 'theater', 'technology', 'games', 'film & video', 'technology', 'publishing', 'music', 'food', 'theater', 'film & video', 'publishing', 'games', 'theater', 'film & video', 'theater', 'theater', 'film & video', 'theater', 'music', 'film & video', 'food', 'technology', 'theater', 'theater', 'theater', 'publishing', 'music', 'food', 'music', 'film & video', 'theater', 'theater', 'music', 'theater', 'theater', 'theater', 'music', 'theater', 'publishing', 'theater', 'photography', 'theater', 'music', 'theater', 'photography', 'theater', 'theater', 'food', 'music', 'theater', 'theater', 'theater', 'theater', 'film & video', 'film & video', 'film & video', 'film & video', 'theater', 'theater', 'film & video', 'theater', 'theater', 'technology', 'theater', 'theater', 'music', 'games', 'publishing', 'food', 'theater', 'music', 'film & video', 'technology', 'technology', 'music', 'photography', 'food', 'film & video', 'music', 'film & video', 'theater', 'music', 'theater', 'theater', 'music', 'film & video', 'theater', 'journalism', 'theater', 'theater', 'music', 'theater', 'theater', 'music', 'photography', 'journalism', 'photography', 'publishing', 'film & video', 'food', 'games', 'theater', 'theater', 'theater', 'publishing', 'theater', 'technology', 'theater', 'film & video', 'technology', 'film & video', 'film & video', 'music', 'theater', 'theater', 'music', 'theater', 'music', 'technology', 'film & video', 'technology', 'theater', 'technology', 'publishing', 'film & video', 'publishing', 'technology', 'film & video', 'theater', 'theater', 'theater', 'theater', 'theater', 'publishing', 'music', 'games', 'theater', 'film & video', 'technology', 'publishing', 'theater', 'music', 'film & video', 'theater', 'theater', 'games', 'theater', 'technology', 'theater', 'film & video', 'technology', 'technology', 'music', 'music', 'theater', 'photography', 'publishing', 'music', 'theater', 'music', 'theater', 'theater', 'music', 'theater', 'theater', 'technology', 'technology', 'theater', 'film & video', 'technology', 'music', 'publishing', 'theater', 'photography', 'theater', 'theater', 'theater', 'film & video', 'music', 'music', 'games', 'music', 'music', 'theater', 'music', 'music', 'film & video', 'publishing', 'theater', 'games', 'theater', 'theater', 'music', 'theater', 'technology', 'music', 'theater', 'theater', 'film & video', 'theater', 'film & video', 'theater', 'film & video', 'music', 'technology', 'film & video', 'music', 'music', 'film & video', 'theater', 'theater', 'food', 'theater', 'publishing', 'music', 'film & video', 'games', 'technology', 'theater', 'theater', 'music', 'photography', 'photography', 'theater', 'music', 'film & video', 'film & video', 'theater', 'food', 'film & video', 'theater', 'games', 'publishing', 'games', 'music', 'music', 'theater', 'publishing', 'theater', 'games', 'music', 'film & video', 'music', 'music', 'publishing', 'film & video', 'theater', 'film & video', 'theater', 'theater', 'theater', 'photography', 'publishing', 'publishing', 'theater', 'technology', 'music', 'music', 'theater', 'film & video', 'theater', 'technology', 'technology', 'photography', 'film & video', 'technology', 'technology', 'food', 'film & video', 'music', 'music', 'music', 'games', 'music', 'publishing', 'theater', 'food', 'film & video', 'food', 'theater', 'technology', 'theater', 'theater', 'film & video', 'film & video', 'theater', 'photography', 'food', 'theater', 'film & video', 'theater', 'theater', 'film & video', 'photography', 'photography', 'music', 'photography', 'food', 'music', 'publishing', 'music', 'theater', 'theater', 'film & video', 'theater', 'theater', 'music', 'theater', 'theater', 'music', 'music', 'film & video', 'publishing', 'film & video', 'film & video', 'theater', 'food', 'theater', 'film & video', 'music', 'technology', 'music', 'technology', 'publishing', 'publishing', 'theater', 'film & video', 'theater', 'games', 'theater', 'theater', 'technology', 'film & video', 'film & video', 'theater', 'film & video', 'photography', 'film & video', 'publishing', 'theater', 'film & video', 'technology', 'music', 'theater', 'theater', 'theater', 'food', 'theater', 'technology', 'theater', 'theater', 'theater', 'music', 'theater', 'theater', 'theater', 'theater', 'film & video', 'publishing', 'games', 'technology', 'theater', 'theater', 'food', 'photography', 'photography', 'theater', 'theater', 'film & video', 'technology', 'theater', 'music', 'film & video', 'film & video', 'technology', 'theater', 'film & video', 'theater', 'film & video', 'publishing', 'technology', 'publishing', 'food', 'photography', 'theater', 'music', 'theater', 'music', 'food', 'theater', 'theater', 'film & video', 'technology', 'theater', 'music', 'theater', 'theater', 'food', 'games', 'theater', 'publishing', 'technology', 'film & video', 'film & video', 'theater', 'music', 'music', 'film & video', 'publishing', 'publishing', 'film & video', 'music', 'film & video', 'photography', 'publishing', 'food', 'theater', 'theater', 'music', 'food']\n"
     ]
    }
   ],
   "source": [
    "# Get the unique categories and subcategories in separate lists.\n",
    "categories.unique()\n",
    "categories_lists = list(map(lambda x: categories[x], range(len(categories))))\n",
    "print(categories_lists)\n",
    "\n",
    "#subcategories.unique()\n",
    "#subcategories_lists = list(map(lambda x: x**2, range(25)))\n",
    "\n",
    "\n",
    "#print(subcategories_lists)"
   ]
  },
  {
   "cell_type": "code",
   "execution_count": 25,
   "metadata": {},
   "outputs": [
    {
     "name": "stdout",
     "output_type": "stream",
     "text": [
      "category\n",
      "theater         344\n",
      "film & video    178\n",
      "music           175\n",
      "technology       96\n",
      "publishing       67\n",
      "games            48\n",
      "food             46\n",
      "photography      42\n",
      "journalism        4\n",
      "Name: count, dtype: int64\n",
      "subcategory\n",
      "plays                344\n",
      "rock                  85\n",
      "documentary           60\n",
      "web                   51\n",
      "food trucks           46\n",
      "indie rock            45\n",
      "wearables             45\n",
      "photography books     42\n",
      "drama                 37\n",
      "video games           35\n",
      "animation             34\n",
      "nonfiction            21\n",
      "translations          21\n",
      "electric music        18\n",
      "jazz                  17\n",
      "fiction               17\n",
      "television            17\n",
      "shorts                16\n",
      "science fiction       14\n",
      "mobile games          13\n",
      "radio & podcasts       8\n",
      "metal                  7\n",
      "audio                  4\n",
      "world music            3\n",
      "Name: count, dtype: int64\n"
     ]
    }
   ],
   "source": [
    "# Get the number of distinct values in the categories and subcategories lists.\n",
    "category_counts = categories.value_counts()\n",
    "subcategory_counts = subcategories.value_counts()\n",
    "\n",
    "\n",
    "print(category_counts)\n",
    "print(subcategory_counts)"
   ]
  },
  {
   "cell_type": "code",
   "execution_count": 45,
   "metadata": {},
   "outputs": [
    {
     "data": {
      "text/plain": [
       "{1: 'food',\n",
       " 2: 'music',\n",
       " 3: 'technology',\n",
       " 4: 'music',\n",
       " 5: 'theater',\n",
       " 6: 'theater',\n",
       " 7: 'film & video',\n",
       " 8: 'theater',\n",
       " 9: 'theater'}"
      ]
     },
     "execution_count": 45,
     "metadata": {},
     "output_type": "execute_result"
    }
   ],
   "source": [
    "# Create numpy arrays from 1-9 for the categories and 1-24 for the subcategories.\n",
    "category_ids = np.arange(1, 10)\n",
    "subcategory_ids = np.arange(1, 25)\n",
    "\n",
    "# Initialize empty dictionaries to store the unique mappings\n",
    "category_mapping = {}\n",
    "subcategory_mapping = {}\n",
    "\n",
    "# For loop to assign categories to category IDs\n",
    "for idx, category in zip(category_ids, categories):\n",
    "    category_mapping[idx] = category\n",
    "\n",
    "\n",
    "category_mapping"
   ]
  },
  {
   "cell_type": "code",
   "execution_count": 43,
   "metadata": {},
   "outputs": [
    {
     "data": {
      "text/plain": [
       "{1: 'food trucks',\n",
       " 2: 'rock',\n",
       " 3: 'web',\n",
       " 4: 'rock',\n",
       " 5: 'plays',\n",
       " 6: 'plays',\n",
       " 7: 'documentary',\n",
       " 8: 'plays',\n",
       " 9: 'plays',\n",
       " 10: 'electric music',\n",
       " 11: 'drama',\n",
       " 12: 'plays',\n",
       " 13: 'drama',\n",
       " 14: 'indie rock',\n",
       " 15: 'indie rock',\n",
       " 16: 'wearables',\n",
       " 17: 'nonfiction',\n",
       " 18: 'animation',\n",
       " 19: 'plays',\n",
       " 20: 'plays',\n",
       " 21: 'drama',\n",
       " 22: 'plays',\n",
       " 23: 'plays',\n",
       " 24: 'documentary'}"
      ]
     },
     "execution_count": 43,
     "metadata": {},
     "output_type": "execute_result"
    }
   ],
   "source": [
    "# For loop to assign subcategories to subcategory IDs\n",
    "for idx, subcategory in zip(subcategory_ids, subcategories):\n",
    "    subcategory_mapping[idx] = subcategory\n",
    "\n",
    "subcategory_mapping"
   ]
  },
  {
   "cell_type": "code",
   "execution_count": 41,
   "metadata": {},
   "outputs": [
    {
     "name": "stdout",
     "output_type": "stream",
     "text": [
      "['cat1', 'cat2', 'cat3', 'cat4', 'cat5', 'cat6', 'cat7', 'cat8', 'cat9']\n",
      "['cat1', 'cat2', 'cat3', 'cat4', 'cat5', 'cat6', 'cat7', 'cat8', 'cat9', 'cat10', 'cat11', 'cat12', 'cat13', 'cat14', 'cat15', 'cat16', 'cat17', 'cat18', 'cat19', 'cat20', 'cat21', 'cat22', 'cat23', 'cat24']\n"
     ]
    }
   ],
   "source": [
    "# Use a list comprehension to add \"cat\" to each category_id.\n",
    "cat_ids = [f\"cat{category_id}\" for category_id in category_ids]\n",
    "print(cat_ids)\n",
    "\n",
    "# Use a list comprehension to add \"cat\" to each subcategory_id.\n",
    "scat_ids = [f\"cat{subcategory_id}\" for subcategory_id in subcategory_ids]\n",
    "print(scat_ids)\n",
    "\n"
   ]
  },
  {
   "cell_type": "code",
   "execution_count": null,
   "metadata": {},
   "outputs": [],
   "source": [
    "# Create a category DataFrame with the category_id array as the category_id and categories list as the category name.\n",
    "\n",
    "\n",
    "# Create a category DataFrame with the subcategory_id array as the subcategory_id and subcategories list as the subcategory name.\n"
   ]
  },
  {
   "cell_type": "code",
   "execution_count": null,
   "metadata": {},
   "outputs": [],
   "source": [
    "# View the category_df\n",
    "category_df"
   ]
  },
  {
   "cell_type": "code",
   "execution_count": null,
   "metadata": {},
   "outputs": [],
   "source": [
    "# View the subcategory_df\n",
    "subcategory_df"
   ]
  },
  {
   "cell_type": "code",
   "execution_count": null,
   "metadata": {},
   "outputs": [],
   "source": [
    "# Export categories_df and subcategories_df as CSV files.\n",
    "category_df.to_csv(\"Resources/category.csv\", index=False)\n",
    "\n",
    "subcategory_df.to_csv(\"Resources/subcategory.csv\", index=False)"
   ]
  },
  {
   "attachments": {},
   "cell_type": "markdown",
   "metadata": {},
   "source": [
    "### Campaign DataFrame\n",
    "----\n",
    "**Create a Campaign DataFrame that has the following columns:**\n",
    "* The \"cf_id\" column\n",
    "* The \"contact_id\" column\n",
    "* The \"company_name\" column\n",
    "* The \"blurb\" column, renamed to \"description\"\n",
    "* The \"goal\" column, converted to the `float` data type\n",
    "* The \"pledged\" column, converted to the `float` data type\n",
    "* The \"outcome\" column\n",
    "* The \"backers_count\" column\n",
    "* The \"country\" column\n",
    "* The \"currency\" column\n",
    "* The \"launched_at\" column, renamed to \"launch_date\" and with the UTC times converted to the `datetime` format\n",
    "* The \"deadline\" column, renamed to \"end_date\" and with the UTC times converted to the `datetime` format\n",
    "* The \"category_id\" column, with unique identification numbers matching those in the \"category_id\" column of the category DataFrame\n",
    "* The \"subcategory_id\" column, with the unique identification numbers matching those in the \"subcategory_id\" column of the subcategory DataFrame\n",
    " \n",
    "\n",
    "Then export the DataFrame as a `campaign.csv` CSV file.\n"
   ]
  },
  {
   "cell_type": "code",
   "execution_count": null,
   "metadata": {},
   "outputs": [],
   "source": [
    "# Create a copy of the crowdfunding_info_df DataFrame name campaign_df.\n",
    "campaign_df = crowdfunding_info_df.copy()\n",
    "campaign_df.head()"
   ]
  },
  {
   "cell_type": "code",
   "execution_count": null,
   "metadata": {},
   "outputs": [],
   "source": [
    "# Rename the blurb, launched_at, and deadline columns.\n"
   ]
  },
  {
   "cell_type": "code",
   "execution_count": null,
   "metadata": {},
   "outputs": [],
   "source": [
    "# Convert the goal and pledged columns to a `float` data type.\n"
   ]
  },
  {
   "cell_type": "code",
   "execution_count": null,
   "metadata": {},
   "outputs": [],
   "source": [
    "# Check the datatypes\n"
   ]
  },
  {
   "cell_type": "code",
   "execution_count": null,
   "metadata": {},
   "outputs": [],
   "source": [
    "# Format the launch_date and end_date columns to datetime format\n"
   ]
  },
  {
   "cell_type": "code",
   "execution_count": null,
   "metadata": {},
   "outputs": [],
   "source": [
    "# Merge the campaign_df with the category_df on the \"category\" column and\n",
    "# the subcategory_df on the \"subcategory\" column.\n",
    "\n",
    "campaign_merged_df.tail(10)"
   ]
  },
  {
   "cell_type": "code",
   "execution_count": null,
   "metadata": {},
   "outputs": [],
   "source": [
    "# Drop unwanted columns, including 'staff_pick' and 'spotlight'\n"
   ]
  },
  {
   "cell_type": "code",
   "execution_count": null,
   "metadata": {},
   "outputs": [],
   "source": [
    "# Export the DataFrame as a CSV file.\n",
    "campaign_cleaned.to_csv(\"Resources/campaign.csv\", index=False)"
   ]
  },
  {
   "attachments": {},
   "cell_type": "markdown",
   "metadata": {},
   "source": [
    "### Extract the contacts.xlsx Data."
   ]
  },
  {
   "cell_type": "code",
   "execution_count": null,
   "metadata": {},
   "outputs": [],
   "source": [
    "# Read the data into a Pandas DataFrame. Use the `header=3` parameter when reading in the data.\n",
    "contact_info_df = pd.read_excel('Resources/contacts.xlsx', header=3)\n",
    "contact_info_df.head()"
   ]
  },
  {
   "attachments": {},
   "cell_type": "markdown",
   "metadata": {},
   "source": [
    "### Create the Contacts DataFrame \n",
    "---\n",
    "**Create a Contacts DataFrame that has the following columns:**\n",
    "- A column named \"contact_id\"  that contains the unique number of the contact person.\n",
    "- A column named \"first_name\" that contains the first name of the contact person.\n",
    "- A column named \"last_name\" that contains the first name of the contact person.\n",
    "- A column named \"email\" that contains the email address of the contact person\n",
    "\n",
    "Then export the DataFrame as a `contacts.csv` CSV file."
   ]
  },
  {
   "attachments": {},
   "cell_type": "markdown",
   "metadata": {},
   "source": [
    "### Option 1: Use Pandas to create the contacts DataFrame."
   ]
  },
  {
   "cell_type": "code",
   "execution_count": null,
   "metadata": {},
   "outputs": [],
   "source": [
    "import json\n",
    "dict_values = []\n",
    "\n",
    "# Iterate through the contact_info_df and convert each row to a dictionary.\n",
    "\n",
    "\n",
    "    # Append the converted row to a list.\n",
    "\n",
    "\n",
    "# Print out the list of dictionaries\n",
    "print(dict_values)"
   ]
  },
  {
   "cell_type": "code",
   "execution_count": null,
   "metadata": {},
   "outputs": [],
   "source": [
    "# Create a contacts_df DataFrame from the list of dictionaries\n"
   ]
  },
  {
   "cell_type": "code",
   "execution_count": null,
   "metadata": {},
   "outputs": [],
   "source": [
    "# Check the datatypes.\n"
   ]
  },
  {
   "cell_type": "code",
   "execution_count": null,
   "metadata": {},
   "outputs": [],
   "source": [
    "# Create a \"first\"name\" and \"last_name\" column with the first and last names from the \"name\" column.\n",
    "\n",
    "\n",
    "# Drop the contact_name column\n"
   ]
  },
  {
   "cell_type": "code",
   "execution_count": null,
   "metadata": {},
   "outputs": [],
   "source": [
    "# Reorder the columns\n"
   ]
  },
  {
   "cell_type": "code",
   "execution_count": null,
   "metadata": {},
   "outputs": [],
   "source": [
    "# Check the datatypes one more time before exporting as CSV file.\n"
   ]
  },
  {
   "cell_type": "code",
   "execution_count": null,
   "metadata": {},
   "outputs": [],
   "source": [
    "# Export the DataFrame as a CSV file.\n",
    "contacts_df_clean.to_csv(\"Resources/contacts.csv\", encoding='utf8', index=False)"
   ]
  },
  {
   "attachments": {},
   "cell_type": "markdown",
   "metadata": {},
   "source": [
    "### Option 2: Use regex to create the contacts DataFrame."
   ]
  },
  {
   "cell_type": "code",
   "execution_count": null,
   "metadata": {},
   "outputs": [],
   "source": [
    "contact_info_df_copy = contact_info_df.copy()\n",
    "contact_info_df_copy.head()"
   ]
  },
  {
   "cell_type": "code",
   "execution_count": null,
   "metadata": {},
   "outputs": [],
   "source": [
    "# Extract the four-digit contact ID number.\n"
   ]
  },
  {
   "cell_type": "code",
   "execution_count": null,
   "metadata": {},
   "outputs": [],
   "source": [
    "# Check the datatypes.\n"
   ]
  },
  {
   "cell_type": "code",
   "execution_count": null,
   "metadata": {},
   "outputs": [],
   "source": [
    "# Convert the \"contact_id\" column to an int64 data type using `pd.to_numeric`.\n"
   ]
  },
  {
   "cell_type": "code",
   "execution_count": null,
   "metadata": {},
   "outputs": [],
   "source": [
    "# Extract the name of the contact and add it to a new column.\n"
   ]
  },
  {
   "cell_type": "code",
   "execution_count": null,
   "metadata": {},
   "outputs": [],
   "source": [
    "# Extract the email from the contacts and add the values to a new column.\n"
   ]
  },
  {
   "cell_type": "code",
   "execution_count": null,
   "metadata": {},
   "outputs": [],
   "source": [
    "# Create a copy of the contact_info_df with the 'contact_id', 'name', 'email' columns.\n"
   ]
  },
  {
   "cell_type": "code",
   "execution_count": null,
   "metadata": {},
   "outputs": [],
   "source": [
    "# Create a \"first\"name\" and \"last_name\" column with the first and last names from the \"name\" column.\n",
    "\n",
    "\n",
    "# Drop the contact_name column\n"
   ]
  },
  {
   "cell_type": "code",
   "execution_count": null,
   "metadata": {},
   "outputs": [],
   "source": [
    "# Reorder the columns\n"
   ]
  },
  {
   "cell_type": "code",
   "execution_count": null,
   "metadata": {},
   "outputs": [],
   "source": [
    "# Check the datatypes one more time before exporting as CSV file.\n"
   ]
  },
  {
   "cell_type": "code",
   "execution_count": null,
   "metadata": {},
   "outputs": [],
   "source": [
    "# Export the DataFrame as a CSV file.\n",
    "# contacts_df_clean.to_csv(\"Resources/contacts.csv\", encoding='utf8', index=False)"
   ]
  },
  {
   "cell_type": "code",
   "execution_count": null,
   "metadata": {},
   "outputs": [],
   "source": []
  }
 ],
 "metadata": {
  "kernelspec": {
   "display_name": "Python 3 (ipykernel)",
   "language": "python",
   "name": "python3"
  },
  "language_info": {
   "codemirror_mode": {
    "name": "ipython",
    "version": 3
   },
   "file_extension": ".py",
   "mimetype": "text/x-python",
   "name": "python",
   "nbconvert_exporter": "python",
   "pygments_lexer": "ipython3",
   "version": "3.12.4"
  }
 },
 "nbformat": 4,
 "nbformat_minor": 4
}
