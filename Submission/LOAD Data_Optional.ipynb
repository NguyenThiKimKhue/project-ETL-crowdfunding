{
 "cells": [
  {
   "cell_type": "code",
   "execution_count": 1,
   "id": "899f0452-fcc5-4ca3-9459-f85f3bcb295b",
   "metadata": {},
   "outputs": [],
   "source": [
    "############## OPTIONAL BUT IT AS ALREADY UPLOADED ON pgAmind\n",
    "# Import the dependencies\n",
    "import pandas as pd\n",
    "import numpy as np\n",
    "import datetime\n",
    "\n",
    "from sqlalchemy import create_engine, inspect"
   ]
  },
  {
   "cell_type": "code",
   "execution_count": 2,
   "id": "36be4411-f125-46a5-a329-50a1e92bf11d",
   "metadata": {},
   "outputs": [],
   "source": [
    "# connect to postgres\n",
    "USERNAME = \"postgres\"\n",
    "PASSWORD = \"postgres\"\n",
    "HOST = \"localhost\"\n",
    "PORT = 5432\n",
    "DATABASE = \"crowdfunding\"\n",
    "connection_str = f\"postgresql://{USERNAME}:{PASSWORD}@{HOST}:{PORT}/{DATABASE}\"\n",
    "\n",
    "# Create Engine\n",
    "engine = create_engine(connection_str)"
   ]
  },
  {
   "cell_type": "code",
   "execution_count": 3,
   "id": "102a736e-7f81-4ebf-8c7e-0d887689c424",
   "metadata": {},
   "outputs": [
    {
     "name": "stdout",
     "output_type": "stream",
     "text": [
      "contacts\n",
      "--------\n",
      "contact_id INTEGER\n",
      "first_name VARCHAR(50)\n",
      "last_name VARCHAR(50)\n",
      "email VARCHAR(50)\n",
      "\n",
      "campaign\n",
      "--------\n",
      "cf_id INTEGER\n",
      "contact_id INTEGER\n",
      "company_name VARCHAR(100)\n",
      "description VARCHAR(500)\n",
      "goal DOUBLE PRECISION\n",
      "pledged DOUBLE PRECISION\n",
      "outcome VARCHAR(50)\n",
      "backers_count INTEGER\n",
      "country VARCHAR(10)\n",
      "currency VARCHAR(10)\n",
      "launch_date DATE\n",
      "end_date DATE\n",
      "category_id VARCHAR(10)\n",
      "subcategory_id VARCHAR(10)\n",
      "\n",
      "category\n",
      "--------\n",
      "category_id VARCHAR(10)\n",
      "category VARCHAR(20)\n",
      "\n",
      "subcategory\n",
      "--------\n",
      "subcategory_id VARCHAR(10)\n",
      "subcategory VARCHAR(20)\n",
      "\n"
     ]
    }
   ],
   "source": [
    "# Create the inspector and connect it to the engine\n",
    "inspector = inspect(engine)\n",
    "\n",
    "# Collect the names of tables within the database\n",
    "tables = inspector.get_table_names()\n",
    "\n",
    "# Using the inspector to print the column names within the 'dow' table and its types\n",
    "for table in tables:\n",
    "    print(table)\n",
    "    print(\"--------\")\n",
    "    columns = inspector.get_columns(table)\n",
    "    for column in columns:\n",
    "        print(column[\"name\"], column[\"type\"])\n",
    "\n",
    "    print()"
   ]
  },
  {
   "cell_type": "code",
   "execution_count": 14,
   "id": "d8ee197f-ff18-42de-8424-3f26e5c05307",
   "metadata": {},
   "outputs": [],
   "source": [
    "\n",
    "# df = pd.read_csv(\"../Submission/Resources/category.csv\")\n",
    "# Write to SQL (NOTE I AM USING con=engine) THIS IS WHAT WORKS APPARENTLY WHEN WRITING OUT DATA\n",
    "# df.to_sql(name=\"category\", con=engine, index=False, if_exists=\"append\", method=\"multi\")"
   ]
  },
  {
   "cell_type": "code",
   "execution_count": null,
   "id": "fd1c0952-8713-43e6-b0ce-7cfa329e7b6e",
   "metadata": {},
   "outputs": [],
   "source": [
    "# df = pd.read_csv(\"../Submission/Resources/subcategory.csv\")\n",
    "# df.to_sql(name=\"subcategory\", con=engine, index=False, if_exists=\"append\", method=\"multi\")"
   ]
  },
  {
   "cell_type": "code",
   "execution_count": null,
   "id": "1efd9a5c-f970-4c01-9c46-97944ebb7b3f",
   "metadata": {},
   "outputs": [],
   "source": [
    "# df = pd.read_csv(\"../Submission/Resources/contacts.csv\"\")\n",
    "# df.to_sql(name=\"contacts\", con=engine, index=False, if_exists=\"append\", method=\"multi\")"
   ]
  },
  {
   "cell_type": "code",
   "execution_count": null,
   "id": "06493570-19a4-4f9a-9fce-12416c5a467d",
   "metadata": {},
   "outputs": [],
   "source": [
    "# df = pd.read_csv(\"../Submission/Resources/campaign.csv)\n",
    "# df.to_sql(name=\"campaign\", con=engine, index=False, if_exists=\"append\", method=\"multi\")"
   ]
  },
  {
   "cell_type": "code",
   "execution_count": null,
   "id": "1330dfe6-a0c8-4438-87f0-0df73028db07",
   "metadata": {},
   "outputs": [],
   "source": [
    "engine.dispose()"
   ]
  },
  {
   "cell_type": "code",
   "execution_count": null,
   "id": "f1d4d5dd-9d24-40b4-8f19-2fcdc69c269b",
   "metadata": {},
   "outputs": [],
   "source": []
  }
 ],
 "metadata": {
  "kernelspec": {
   "display_name": "Python 3 (ipykernel)",
   "language": "python",
   "name": "python3"
  },
  "language_info": {
   "codemirror_mode": {
    "name": "ipython",
    "version": 3
   },
   "file_extension": ".py",
   "mimetype": "text/x-python",
   "name": "python",
   "nbconvert_exporter": "python",
   "pygments_lexer": "ipython3",
   "version": "3.12.4"
  }
 },
 "nbformat": 4,
 "nbformat_minor": 5
}
